{
 "cells": [
  {
   "cell_type": "markdown",
   "id": "8f7563a8",
   "metadata": {},
   "source": [
    "# Code definition of PCA"
   ]
  },
  {
   "cell_type": "markdown",
   "id": "20cec216",
   "metadata": {},
   "source": [
    "The code is thought as scikit-learn classes. A PCA class is defined and has to be fitted with a dataframe. Then, the principal components, the corresponding projections and plots are available by calling the PCA object methods."
   ]
  },
  {
   "cell_type": "code",
   "execution_count": 5,
   "id": "cd9e5356",
   "metadata": {},
   "outputs": [],
   "source": [
    "import numpy as np\n",
    "import warnings\n",
    "import plotly.express as px\n",
    "import pandas as pd\n",
    "import plotly.graph_objects as go\n",
    "\n",
    "class PCA:\n",
    "\n",
    "    def __init__(self, principal_components_number:int=None, std_scale:bool=False, features_weights=None, individuals_weights=None):\n",
    "        \"\"\"\n",
    "        Create instance of PCA object.\n",
    "        \n",
    "        Parameters\n",
    "        ----------\n",
    "        principal_components_number : int or None. Default to None.\n",
    "        \n",
    "            Number of principal components desired at the end of the PCA. \n",
    "            If None, all the principal components computed in numpy.linalg.svd are kept.\n",
    "            If int, we keep the number entered as long as it is greater than the number \n",
    "            of variables or the number of individuals minus one.\n",
    "  \n",
    "        std_scale : bool. Default to False.\n",
    "        \n",
    "            Boolean to scale each columns (variable) by its standard deviation.\n",
    "       \n",
    "        features_weights : numpy array-like, list, str or None. Default to None.\n",
    "  \n",
    "            If numpy array-like or list, the coefficients are used as features weights.\n",
    "            Must has same length than number of variables given when 'fit' function is used.\n",
    "\n",
    "            If string, the string should represent a known method to compute the weights.\n",
    "            The only method defined today is 'var', which weights each individual by the \n",
    "            inverse of the standard deviation of each variable (to reduce the importance of \n",
    "            variables with too much variability).\n",
    "\n",
    "            If None, each variables has the same importance. The distance between \n",
    "            two individuals is then calculated with the Euclidean norm of the difference \n",
    "            in coordinates.\n",
    "  \n",
    "        individuals_weights : numpy array-like, list, or None. Default to None.\n",
    "  \n",
    "            If numpy array-like or list, the coefficients are used as individuals weights.\n",
    "            Must has same length than number of individuals when 'fit' function is used.\n",
    "\n",
    "            If None, each individual is weighted with the same weight. \n",
    "       \"\"\"\n",
    "        \n",
    "        #################\n",
    "        # save attributes\n",
    "        #################\n",
    "        \n",
    "        self.do_std_scale = std_scale\n",
    "        self.features_weights = features_weights\n",
    "        self.individuals_weights = individuals_weights\n",
    "        self.ncp = principal_components_number\n",
    "        \n",
    "        ###################################################\n",
    "        # define types of qual / quant / temporal variables\n",
    "        ###################################################\n",
    "        \n",
    "        self.quant_dtypes = ['int16', 'int32', 'int64', 'float16', 'float32', 'float64']\n",
    "        self.qual_dtypes = ['category']\n",
    "        # self.temporal_dtypes = ['<M8[ns]']\n",
    "        \n",
    "        ###########################################\n",
    "        # creation of attributes used in fit method\n",
    "        ###########################################\n",
    "        \n",
    "        self.data = None\n",
    "        self.X = None\n",
    "        self.n = None\n",
    "        self.p = None\n",
    "        self.principal_components_inertias = None\n",
    "        self.per_of_principal_comp_inertias = None\n",
    "        self.cumulative_per_of_principal_comp_inertias = None\n",
    "        self.individuals_coordinates = None\n",
    "        self.features_coordinates = None\n",
    "     \n",
    "        \n",
    "    def fit(self, data):\n",
    "        \"\"\"\n",
    "        Compute the principals components and linked attributes with input data.\n",
    "        \n",
    "        Parameters\n",
    "        ----------\n",
    "        data : pandas dataframe\n",
    "        \n",
    "            Input data compound of quantitative and qualitative variables\n",
    "            used to compute PCA decomposition.\n",
    "            \n",
    "            Warning : the data must always be in this form: individuals in row, \n",
    "            variables / features in column.\n",
    "       \"\"\"\n",
    "        \n",
    "        # if input is not a dataframe, raise error\n",
    "        if not isinstance(data, pd.DataFrame):\n",
    "            raise TypeError(\"input data is not pandas dataframe\")\n",
    "        else:\n",
    "            self.data = data\n",
    "\n",
    "        # if other input than quantitative or quantitative, warn message\n",
    "        if len(data.select_dtypes(exclude = self.quant_dtypes + self.qual_dtypes).columns) != 0:\n",
    "            raise TypeError(\"some dataframe columns are not quantitative or qualitative variable\")\n",
    "            \n",
    "        self.X = data.select_dtypes(include = self.quant_dtypes).to_numpy()\n",
    "        self.n = self.X.shape[0]\n",
    "        self.p = self.X.shape[1]\n",
    "        self.update_ncp()\n",
    " \n",
    "        # mean centering of columns\n",
    "        self.X -= np.mean(self.X, axis=0)\n",
    "            \n",
    "        # std scaling\n",
    "        if self.do_std_scale:\n",
    "            self.X /= np.std(self.X, axis=0)\n",
    "        \n",
    "        # decomposition in SVD by considering weights\n",
    "        U, S, V = self.SVD(self.X, self.get_individuals_weights(), self.get_features_weights(), self.ncp)\n",
    "        \n",
    "        # inertias are eigen vectors of covariance matrix, \n",
    "        # so square of singular values \n",
    "        self.principal_components_inertias = np.square(S)\n",
    "        \n",
    "        # computation of percentages\n",
    "        self.per_of_principal_comp_inertias = (self.principal_components_inertias / np.sum(self.principal_components_inertias)) * 100.0\n",
    "        self.cumulative_per_of_principal_comp_inertias = np.cumsum(self.per_of_principal_comp_inertias)\n",
    "    \n",
    "        # update of number of principal components\n",
    "        U = U[:, :self.ncp]\n",
    "        S = S[:self.ncp]\n",
    "        V = V[:, :self.ncp]\n",
    "    \n",
    "        # computation of individuals and features coordinates in \n",
    "        # principal components space\n",
    "        self.individuals_coordinates = U * np.abs(S)\n",
    "        self.features_coordinates = V * np.abs(S)\n",
    "        \n",
    "    def get_features_weights(self):\n",
    "        # if None, all features are equivalently weighted\n",
    "        if self.features_weights is None:\n",
    "            return np.repeat(1, self.p)\n",
    "        # if features weights indicate \"var\" method, return identity matrix weighted by each \n",
    "        # input numerical variable variance\n",
    "        elif self.features_weights == \"var\":\n",
    "            return np.reciprocal(np.var(self.X, axis=0))\n",
    "        # if list of weights as input, we check the length and return it\n",
    "        elif isinstance(self.features_weights, list) or isinstance(self.features_weights, np.ndarray):\n",
    "            if (len(np.shape(self.features_weights)) == 1) and (len(self.features_weights) == self.p):\n",
    "                return self.features_weights\n",
    "            # error if length of input list is not p\n",
    "            else:\n",
    "                raise ValueError(\"features_weights attribute is list of shape {} instead of ({},)\".format(np.shape(self.features_weights), self.p))\n",
    "        # error if other object is given as input\n",
    "        else:\n",
    "            raise ValueError('unkwnown features_weights attribute')\n",
    "            \n",
    "    def get_individuals_weights(self):\n",
    "        # if None, all individuals are equivalently weighted\n",
    "        if self.individuals_weights is None:\n",
    "             return np.repeat(1.0/float(self.n), self.n)\n",
    "        # if list of weights as input, we check the length and return it\n",
    "        elif isinstance(self.individuals_weights, list) or isinstance(self.individuals_weights, np.ndarray):\n",
    "            if (len(np.shape(self.individuals_weights)) == 1) and (len(self.individuals_weights) == self.n):\n",
    "                return self.individuals_weights\n",
    "            # error if length of input list is not n\n",
    "            else:\n",
    "                raise ValueError(\"individuals_weights attribute is list of shape {} instead of (,{})\".format(np.shape(self.individuals_weights), self.n))\n",
    "        # error if other object is given as input\n",
    "        else:\n",
    "            raise ValueError('unkwnown individuals_weights attribute')\n",
    "            \n",
    "    def update_ncp(self):\n",
    "        if self.ncp is None:\n",
    "            self.ncp = min(self.n - 1, self.p)\n",
    "        elif (self.ncp > self.n - 1) or (self.ncp > self.p):\n",
    "            warning = \"{} desired principal components\".format(self.ncp)\n",
    "            self.ncp = min(self.n - 1, self.p)\n",
    "            warnings.warn(\"{} but n = {} individuals and p = {} features --> {} principal components kept\".format(warning, self.n, self.p, self.ncp))\n",
    "            \n",
    "    @staticmethod\n",
    "    def SVD(X, individual_weights = None, variable_weights = None, n=np.inf):\n",
    "\n",
    "        # definition of individual_weights if None\n",
    "        if individual_weights is None:\n",
    "            ind_weights = np.repeat(1.0/float(X.shape[0]), X.shape[0])\n",
    "        else:\n",
    "            ind_weights = individual_weights\n",
    "\n",
    "        # definition of variable_weights if None\n",
    "        if variable_weights is None:\n",
    "            var_weights = np.repeat(1, X.shape[1])\n",
    "        else:\n",
    "            var_weights = variable_weights\n",
    "\n",
    "        ind_weights /= np.sum(ind_weights)\n",
    "\n",
    "        ncp = np.min(np.array([n,X.shape[0]-1,X.shape[1]]))\n",
    "\n",
    "        # ponderation of x by ind and var weights\n",
    "        x = X * np.sqrt(var_weights)\n",
    "        x = (x.T * np.sqrt(ind_weights)).T    \n",
    "\n",
    "        U, S, VH = np.linalg.svd(x, full_matrices=False)\n",
    "        V = VH.T\n",
    "\n",
    "        if ncp > 1:\n",
    "            mult = np.sign(np.matmul(np.repeat(1, V.shape[0]).T, V))\n",
    "            mult[mult == 0] = 1\n",
    "            mult = mult.reshape((mult.shape[0], 1))\n",
    "            U = (U.T * mult).T\n",
    "            V = (V.T * mult).T\n",
    "\n",
    "        ind_weights = ind_weights.reshape((ind_weights.shape[0], 1))\n",
    "        var_weights = var_weights.reshape((var_weights.shape[0], 1))\n",
    "\n",
    "        U = np.divide(U, np.sqrt(ind_weights))\n",
    "        V  = np.divide(V, np.sqrt(var_weights))\n",
    "\n",
    "        return U, S, V\n",
    "    \n",
    "    def components_barplot(self, n_components:int=None, mode:int=0, bar_color=None):\n",
    "        \"\"\"\n",
    "        Return plotly barplot of the inertias of principals components.\n",
    "        \n",
    "        Parameters\n",
    "        ----------\n",
    "        n_components : int. Default to None.\n",
    "        \n",
    "            Number of computed principal components to plot.\n",
    "            \n",
    "        mode : int. Default to 0.\n",
    "        \n",
    "            If 0, return a barplot of relative inertias. \n",
    "            If 1, return a cumulative sum of relative inertias.\n",
    "            \n",
    "        bar_color : str (or plotly.graph_objs._figure.Figure accepted CSS colors), None, int or float.\n",
    "                    Default to None.\n",
    "        \n",
    "            If str or plotly accepted colors, will color the bars with this color.\n",
    "            If None, will color the bars with \"DarkSeaGreen\" CSS color.\n",
    "            \n",
    "            If int or float, the parameter represents a minimum inertia and will be used as a coloring rule. \n",
    "            The principal component bars that provide at least the inertia that the parameter represents will \n",
    "            be colored in \"DarkSeaGreen\" CSS color, the others in \"IndianRed\" CSS color. \n",
    "       \"\"\"\n",
    "        \n",
    "        # if n_components is None, we plot as many principal components inertia as keeped in last fit method\n",
    "        if n_components is None:\n",
    "            n = self.ncp\n",
    "        else:\n",
    "            # if n_components is not None and is greater than number of keep principal components\n",
    "            # we only plot the keeped principal components inertias and warn the user\n",
    "            if n_components > self.ncp:\n",
    "                warnings.warn(\"{} inertia components requested while {} available, the number of requested inertia components has been truncated\".format(n_components, self.ncp))\n",
    "                n = self.ncp\n",
    "            # if n_components lesser than keeped in last fit method, we only plot the highest n_components components inertias\n",
    "            else:\n",
    "                n = n_components\n",
    "        \n",
    "        # change of plot parameters and input data if absolute or cumulative sum inertias is wanted\n",
    "        if mode == 0:\n",
    "            y = self.per_of_principal_comp_inertias[:n]\n",
    "            title = \"Percentages of inertias of PCA components\"\n",
    "            yaxis_title = \"Percentage of inertia\"\n",
    "        elif mode == 1:\n",
    "            y = self.cumulative_per_of_principal_comp_inertias[:n]\n",
    "            title = \"Cumulative percentages of inertias of PCA components\"\n",
    "            yaxis_title = \"Cumulative percentage of inertia\"\n",
    "        else:\n",
    "            raise ValueError(\"mode must be 0 (for relative inertia barplot) or 1 (for cumulative relative inertia barplot\")\n",
    "\n",
    "        # labels for each bar in the bar plot (\"Component 1\", \"Component 2\", etc)\n",
    "        labels = np.char.add(np.repeat(\"Component \", n), np.arange(1, n+1).astype(\"str\"))\n",
    "        \n",
    "        # compute of the barplot\n",
    "        fig = px.bar(x=labels, y=y)\n",
    "        \n",
    "        # if no bar color provided, default to DearkSeaGreen\n",
    "        if bar_color is None:\n",
    "            color=\"DarkSeaGreen\"\n",
    "        # if float or int, we color in green the bar that provide at least the wanted inertia\n",
    "        elif isinstance(bar_color, int) or isinstance(bar_color, float):\n",
    "            keeped_inertias = self.cumulative_per_of_principal_comp_inertias[self.cumulative_per_of_principal_comp_inertias < bar_color]\n",
    "            if len(keeped_inertias) == n:\n",
    "                color=\"DarkSeaGreen\"\n",
    "            else:\n",
    "                n_green = len(keeped_inertias)+1\n",
    "                n_red = n - n_green\n",
    "                color = np.concatenate((np.repeat(\"DarkSeaGreen\", n_green), np.repeat(\"IndianRed\", n_red)))\n",
    "        # if plotly-accepted color provided, plot the bars with this color\n",
    "        else:\n",
    "            color=bar_color\n",
    "\n",
    "        # update of bar colors and axis titles, inertia range, etc\n",
    "        fig.update_traces(marker=dict(color=color))\n",
    "        fig.update_layout(template=\"gridon\", title=title, \n",
    "                  xaxis_title=\"PCA components number\", \n",
    "                  yaxis_title=yaxis_title,\n",
    "                  yaxis_range=[0.0,110.0])\n",
    "        \n",
    "        return fig\n",
    "    \n",
    "    def individuals_factor_map(self, x:int=1, y:int=2, z=None, label=None, marker_size:int=8, marker_color=None):\n",
    "        \"\"\"\n",
    "        Return plotly scatter plot of the projected individuals on principal components.\n",
    "\n",
    "        Parameters\n",
    "        ----------\n",
    "        x : int. Default to 1. \n",
    "\n",
    "            Which principal component to choose as abscissa.\n",
    "            Must be lesser than keeped number of components in last fit method.\n",
    "\n",
    "        y : int. Default to 2.\n",
    "\n",
    "            Which principal component to choose as ordinate.\n",
    "            Must be lesser than keeped number of components in last fit method.\n",
    "\n",
    "        z : None or object. Default to None.\n",
    "\n",
    "            Label of column representing a categorical variable of input data \n",
    "            during the last run of fit method.\n",
    "\n",
    "        label : None or object. Default to None.\n",
    "\n",
    "            Label of column representing a categorical variable used to \n",
    "            display hover labels on each individuals plotted in scatter plot.\n",
    "\n",
    "        marker_color : str (or plotly.graph_objs._figure.Figure accepted CSS colors) or None.\n",
    "                       Default to None.\n",
    "\n",
    "            Str or plotly accepted colors to color the markers of the scatter plot.\n",
    "        \"\"\"\n",
    "\n",
    "        # check that the wanted principal components exists\n",
    "        if x > self.ncp :\n",
    "            raise ValueError(\"only {} components available while the {}nth is requested\".format(self.ncp, x))\n",
    "        elif y > self.ncp :\n",
    "            raise ValueError(\"only {} components available while the {}nth is requested\".format(self.ncp, y))\n",
    "\n",
    "        if z is not None:\n",
    "            color = self.data[z]\n",
    "        else:\n",
    "            color = None\n",
    "\n",
    "        if label is not None:\n",
    "            hover_name = self.data[label]\n",
    "        else:\n",
    "            hover_name = None\n",
    "\n",
    "        fig = px.scatter(x=self.individuals_coordinates[:,x-1], y=self.individuals_coordinates[:,y-1], color=color, hover_name=hover_name)\n",
    "\n",
    "        # update of title, axis title, etc\n",
    "        fig.update_layout(template=\"gridon\", title=\"Individuals factor map for components {} and {}\".format(x, y), \n",
    "                          xaxis_title=\"Component {} ({}%)\".format(x, round(self.per_of_principal_comp_inertias[x-1], 2)), \n",
    "                          yaxis_title=\"Component {} ({}%)\".format(y, round(self.per_of_principal_comp_inertias[y-1], 2)))\n",
    "\n",
    "        # if no categorical colors, we can use scatter marker color with marker_color parameters\n",
    "        if z is None:\n",
    "            # default to IndianRed, else use parameter\n",
    "            if marker_color is None:\n",
    "                 fig.update_traces(marker=dict(size=marker_size, color=\"IndianRed\"))\n",
    "            else:\n",
    "                 fig.update_traces(marker=dict(size=marker_size, color=marker_color))\n",
    "        # if z is not None\n",
    "        else:\n",
    "            # marker_color won't have any effect\n",
    "            if marker_color is not None:\n",
    "                warnings.warn(\"'{}' specified as marker color not taken into account because z_color is specified\".format(marker_color))\n",
    "            fig.update_traces(marker=dict(size=marker_size))\n",
    "            fig.update_layout(legend_title_text=z)\n",
    "\n",
    "        return fig\n",
    "    \n",
    "    def variables_factor_map(self, x:int=1, y:int=2, size:int=400, font_size:int=8):\n",
    "        \"\"\"\n",
    "        Return plotly circle plot of variables projected (coords are correlation) on principal components axes.\n",
    "        \n",
    "        Parameters\n",
    "        ----------\n",
    "        x : int. Default to 1. \n",
    "        \n",
    "            Which principal component to choose as abscissa.\n",
    "            Must be lesser than keeped number of components in last fit method.\n",
    "            \n",
    "        y : int. Default to 2.\n",
    "        \n",
    "            Which principal component to choose as ordinate.\n",
    "            Must be lesser than keeped number of components in last fit method.\n",
    "            \n",
    "        size : int. Default to 400.\n",
    "                       \n",
    "            Size of the plot.\n",
    "            \n",
    "        font_size : int. Default to 8.\n",
    "        \n",
    "            Font size of used in the plot.\n",
    "       \"\"\"\n",
    "        \n",
    "        # check that the wanted principal components exists\n",
    "        if x > self.ncp :\n",
    "            raise ValueError(\"only {} components available while the {}nth is requested\".format(self.ncp, x))\n",
    "        elif y > self.ncp :\n",
    "            raise ValueError(\"only {} components available while the {}nth is requested\".format(self.ncp, y))\n",
    "        \n",
    "        # Create a dataframe with x and y coordinate for each label\n",
    "        coords = pd.DataFrame({\"Feature\" : self.data.select_dtypes(include = self.quant_dtypes).columns.to_list(),\n",
    "            \"Component {}\".format(x) : self.features_coordinates[:,x-1], \"Component {}\".format(y) : self.features_coordinates[:,y-1], \n",
    "                               })\n",
    "                \n",
    "        # add (0.0,0.0) coordinates to each features to plot the lines from the centers\n",
    "        centers = coords.copy(deep=True)\n",
    "        centers.iloc[:,[1, 2]] = 0.0\n",
    "        coords = pd.concat([coords, centers]).sort_values(\"Feature\")\n",
    "        \n",
    "        # create the plot\n",
    "        fig = px.line(data_frame=coords, x=coords.iloc[:,1].name, y=coords.iloc[:,2].name, color=\"Feature\", width=size+75, height=size)\n",
    "        \n",
    "        # update titles, etc        \n",
    "        fig.update_layout(template=\"gridon\", title=\"Variables factor map for components {} and {}\".format(x, y),\n",
    "                          xaxis_title=\"Component {} ({}%)\".format(x, round(self.per_of_principal_comp_inertias[x-1], 2)),\n",
    "                          yaxis_title=\"Component {} ({}%)\".format(y, round(self.per_of_principal_comp_inertias[y-1], 2)),\n",
    "                          yaxis_range=[-1.2,1.2],\n",
    "                         xaxis_range=[-1.2, 1.2],\n",
    "                         font=dict(size=font_size),\n",
    "                         showlegend=True)\n",
    "        fig.update_traces(mode='lines+markers')\n",
    "        \n",
    "        # add the circle\n",
    "        fig.add_shape(type=\"circle\", x0=-1.0, y0=-1.0, x1=1.0, y1=1.0, line_color=\"Black\", line_width=1.0)\n",
    "        \n",
    "        return fig"
   ]
  },
  {
   "cell_type": "markdown",
   "id": "552b8e31",
   "metadata": {},
   "source": [
    "# Example on simple data"
   ]
  },
  {
   "cell_type": "markdown",
   "id": "410f8958",
   "metadata": {},
   "source": [
    "Let's define some test score data."
   ]
  },
  {
   "cell_type": "code",
   "execution_count": 29,
   "id": "2cea35ae",
   "metadata": {},
   "outputs": [
    {
     "data": {
      "text/html": [
       "<div>\n",
       "<style scoped>\n",
       "    .dataframe tbody tr th:only-of-type {\n",
       "        vertical-align: middle;\n",
       "    }\n",
       "\n",
       "    .dataframe tbody tr th {\n",
       "        vertical-align: top;\n",
       "    }\n",
       "\n",
       "    .dataframe thead th {\n",
       "        text-align: right;\n",
       "    }\n",
       "</style>\n",
       "<table border=\"1\" class=\"dataframe\">\n",
       "  <thead>\n",
       "    <tr style=\"text-align: right;\">\n",
       "      <th></th>\n",
       "      <th>Maths</th>\n",
       "      <th>Physics</th>\n",
       "      <th>French</th>\n",
       "      <th>English</th>\n",
       "      <th>First name</th>\n",
       "      <th>Age</th>\n",
       "    </tr>\n",
       "  </thead>\n",
       "  <tbody>\n",
       "    <tr>\n",
       "      <th>0</th>\n",
       "      <td>6.0</td>\n",
       "      <td>6.0</td>\n",
       "      <td>5.0</td>\n",
       "      <td>5.5</td>\n",
       "      <td>Nathan</td>\n",
       "      <td>18</td>\n",
       "    </tr>\n",
       "    <tr>\n",
       "      <th>1</th>\n",
       "      <td>8.0</td>\n",
       "      <td>8.0</td>\n",
       "      <td>8.0</td>\n",
       "      <td>8.0</td>\n",
       "      <td>Emma</td>\n",
       "      <td>18</td>\n",
       "    </tr>\n",
       "    <tr>\n",
       "      <th>2</th>\n",
       "      <td>6.0</td>\n",
       "      <td>7.0</td>\n",
       "      <td>11.0</td>\n",
       "      <td>9.5</td>\n",
       "      <td>Lola</td>\n",
       "      <td>18</td>\n",
       "    </tr>\n",
       "    <tr>\n",
       "      <th>3</th>\n",
       "      <td>14.5</td>\n",
       "      <td>14.5</td>\n",
       "      <td>15.5</td>\n",
       "      <td>15.0</td>\n",
       "      <td>Baptiste</td>\n",
       "      <td>19</td>\n",
       "    </tr>\n",
       "    <tr>\n",
       "      <th>4</th>\n",
       "      <td>14.0</td>\n",
       "      <td>14.0</td>\n",
       "      <td>12.0</td>\n",
       "      <td>12.5</td>\n",
       "      <td>Mathilde</td>\n",
       "      <td>17</td>\n",
       "    </tr>\n",
       "    <tr>\n",
       "      <th>5</th>\n",
       "      <td>11.0</td>\n",
       "      <td>10.0</td>\n",
       "      <td>5.5</td>\n",
       "      <td>7.0</td>\n",
       "      <td>Ines</td>\n",
       "      <td>17</td>\n",
       "    </tr>\n",
       "    <tr>\n",
       "      <th>6</th>\n",
       "      <td>5.5</td>\n",
       "      <td>7.0</td>\n",
       "      <td>14.0</td>\n",
       "      <td>11.5</td>\n",
       "      <td>Lucas</td>\n",
       "      <td>18</td>\n",
       "    </tr>\n",
       "    <tr>\n",
       "      <th>7</th>\n",
       "      <td>13.0</td>\n",
       "      <td>12.5</td>\n",
       "      <td>8.5</td>\n",
       "      <td>9.5</td>\n",
       "      <td>Aymeric</td>\n",
       "      <td>17</td>\n",
       "    </tr>\n",
       "    <tr>\n",
       "      <th>8</th>\n",
       "      <td>9.0</td>\n",
       "      <td>9.5</td>\n",
       "      <td>12.5</td>\n",
       "      <td>12.0</td>\n",
       "      <td>Chloe</td>\n",
       "      <td>19</td>\n",
       "    </tr>\n",
       "  </tbody>\n",
       "</table>\n",
       "</div>"
      ],
      "text/plain": [
       "   Maths  Physics  French  English First name Age\n",
       "0    6.0      6.0     5.0      5.5     Nathan  18\n",
       "1    8.0      8.0     8.0      8.0       Emma  18\n",
       "2    6.0      7.0    11.0      9.5       Lola  18\n",
       "3   14.5     14.5    15.5     15.0   Baptiste  19\n",
       "4   14.0     14.0    12.0     12.5   Mathilde  17\n",
       "5   11.0     10.0     5.5      7.0       Ines  17\n",
       "6    5.5      7.0    14.0     11.5      Lucas  18\n",
       "7   13.0     12.5     8.5      9.5    Aymeric  17\n",
       "8    9.0      9.5    12.5     12.0      Chloe  19"
      ]
     },
     "execution_count": 29,
     "metadata": {},
     "output_type": "execute_result"
    }
   ],
   "source": [
    "X = [[6, 6, 5, 5.5], [8, 8, 8, 8], [6, 7, 11, 9.5], [14.5, 14.5, 15.5, 15], [14, 14, 12, 12.5], \n",
    "     [11, 10, 5.5, 7], [5.5, 7, 14, 11.5], [13, 12.5, 8.5, 9.5], [9, 9.5, 12.5, 12]]\n",
    "first_name = ['Nathan', 'Emma', 'Lola', 'Baptiste', 'Mathilde', 'Ines', 'Lucas', 'Aymeric', 'Chloe']\n",
    "ages = [18, 18, 18, 19, 17, 17, 18, 17, 19]\n",
    "\n",
    "data = pd.DataFrame(X, columns=['Maths', 'Physics', 'French', 'English'])\n",
    "data['First name'] = first_name\n",
    "data['Age'] = ages\n",
    "\n",
    "data['First name'] = data['First name'].astype('category')\n",
    "data['Age'] = data['Age'].astype('category')\n",
    "\n",
    "data"
   ]
  },
  {
   "cell_type": "markdown",
   "id": "ab6128b0",
   "metadata": {},
   "source": [
    "Let's now fit PCA object. We choose <code>std_scale=True</code> to have a coherent variable factor map. Indeed, without std scaling, the projections of original features on the principal components are out of the correlation circle of radius one. "
   ]
  },
  {
   "cell_type": "code",
   "execution_count": 30,
   "id": "07bb6665",
   "metadata": {},
   "outputs": [],
   "source": [
    "pca = PCA(std_scale=True)\n",
    "pca.fit(data)"
   ]
  },
  {
   "cell_type": "markdown",
   "id": "83c6d0ac",
   "metadata": {},
   "source": [
    "### Components barplot"
   ]
  },
  {
   "cell_type": "code",
   "execution_count": 31,
   "id": "dc8e9d69",
   "metadata": {},
   "outputs": [
    {
     "data": {
      "application/vnd.plotly.v1+json": {
       "config": {
        "plotlyServerURL": "https://plot.ly"
       },
       "data": [
        {
         "alignmentgroup": "True",
         "hovertemplate": "x=%{x}<br>y=%{y}<extra></extra>",
         "legendgroup": "",
         "marker": {
          "color": "DarkSeaGreen",
          "pattern": {
           "shape": ""
          }
         },
         "name": "",
         "offsetgroup": "",
         "orientation": "v",
         "showlegend": false,
         "textposition": "auto",
         "type": "bar",
         "x": [
          "Component 1",
          "Component 2",
          "Component 3",
          "Component 4"
         ],
         "xaxis": "x",
         "y": [
          71.89216928799223,
          27.99218408901536,
          0.08943975215443761,
          0.02620687083797661
         ],
         "yaxis": "y"
        }
       ],
       "layout": {
        "barmode": "relative",
        "legend": {
         "tracegroupgap": 0
        },
        "margin": {
         "t": 60
        },
        "template": {
         "data": {
          "pie": [
           {
            "automargin": true,
            "type": "pie"
           }
          ]
         },
         "layout": {
          "xaxis": {
           "showgrid": true,
           "title": {
            "standoff": 15
           }
          },
          "yaxis": {
           "showgrid": true,
           "title": {
            "standoff": 15
           }
          }
         }
        },
        "title": {
         "text": "Percentages of inertias of PCA components"
        },
        "xaxis": {
         "anchor": "y",
         "domain": [
          0,
          1
         ],
         "title": {
          "text": "PCA components number"
         }
        },
        "yaxis": {
         "anchor": "x",
         "domain": [
          0,
          1
         ],
         "range": [
          0,
          110
         ],
         "title": {
          "text": "Percentage of inertia"
         }
        }
       }
      },
      "text/html": [
       "<div>                            <div id=\"435a02f2-0be1-4067-ab70-f428e667ea60\" class=\"plotly-graph-div\" style=\"height:525px; width:100%;\"></div>            <script type=\"text/javascript\">                require([\"plotly\"], function(Plotly) {                    window.PLOTLYENV=window.PLOTLYENV || {};                                    if (document.getElementById(\"435a02f2-0be1-4067-ab70-f428e667ea60\")) {                    Plotly.newPlot(                        \"435a02f2-0be1-4067-ab70-f428e667ea60\",                        [{\"alignmentgroup\":\"True\",\"hovertemplate\":\"x=%{x}<br>y=%{y}<extra></extra>\",\"legendgroup\":\"\",\"marker\":{\"color\":\"DarkSeaGreen\",\"pattern\":{\"shape\":\"\"}},\"name\":\"\",\"offsetgroup\":\"\",\"orientation\":\"v\",\"showlegend\":false,\"textposition\":\"auto\",\"type\":\"bar\",\"x\":[\"Component 1\",\"Component 2\",\"Component 3\",\"Component 4\"],\"xaxis\":\"x\",\"y\":[71.89216928799223,27.99218408901536,0.08943975215443761,0.02620687083797661],\"yaxis\":\"y\"}],                        {\"barmode\":\"relative\",\"legend\":{\"tracegroupgap\":0},\"margin\":{\"t\":60},\"template\":{\"data\":{\"pie\":[{\"automargin\":true,\"type\":\"pie\"}]},\"layout\":{\"xaxis\":{\"showgrid\":true,\"title\":{\"standoff\":15}},\"yaxis\":{\"showgrid\":true,\"title\":{\"standoff\":15}}}},\"title\":{\"text\":\"Percentages of inertias of PCA components\"},\"xaxis\":{\"anchor\":\"y\",\"domain\":[0.0,1.0],\"title\":{\"text\":\"PCA components number\"}},\"yaxis\":{\"anchor\":\"x\",\"domain\":[0.0,1.0],\"range\":[0.0,110.0],\"title\":{\"text\":\"Percentage of inertia\"}}},                        {\"responsive\": true}                    ).then(function(){\n",
       "                            \n",
       "var gd = document.getElementById('435a02f2-0be1-4067-ab70-f428e667ea60');\n",
       "var x = new MutationObserver(function (mutations, observer) {{\n",
       "        var display = window.getComputedStyle(gd).display;\n",
       "        if (!display || display === 'none') {{\n",
       "            console.log([gd, 'removed!']);\n",
       "            Plotly.purge(gd);\n",
       "            observer.disconnect();\n",
       "        }}\n",
       "}});\n",
       "\n",
       "// Listen for the removal of the full notebook cells\n",
       "var notebookContainer = gd.closest('#notebook-container');\n",
       "if (notebookContainer) {{\n",
       "    x.observe(notebookContainer, {childList: true});\n",
       "}}\n",
       "\n",
       "// Listen for the clearing of the current output cell\n",
       "var outputEl = gd.closest('.output');\n",
       "if (outputEl) {{\n",
       "    x.observe(outputEl, {childList: true});\n",
       "}}\n",
       "\n",
       "                        })                };                });            </script>        </div>"
      ]
     },
     "metadata": {},
     "output_type": "display_data"
    }
   ],
   "source": [
    "pca.components_barplot(n_components=None, mode=0, bar_color=None)"
   ]
  },
  {
   "cell_type": "code",
   "execution_count": 32,
   "id": "0059452a",
   "metadata": {},
   "outputs": [
    {
     "data": {
      "application/vnd.plotly.v1+json": {
       "config": {
        "plotlyServerURL": "https://plot.ly"
       },
       "data": [
        {
         "alignmentgroup": "True",
         "hovertemplate": "x=%{x}<br>y=%{y}<extra></extra>",
         "legendgroup": "",
         "marker": {
          "color": "DodgerBlue",
          "pattern": {
           "shape": ""
          }
         },
         "name": "",
         "offsetgroup": "",
         "orientation": "v",
         "showlegend": false,
         "textposition": "auto",
         "type": "bar",
         "x": [
          "Component 1",
          "Component 2",
          "Component 3",
          "Component 4"
         ],
         "xaxis": "x",
         "y": [
          71.89216928799223,
          27.99218408901536,
          0.08943975215443761,
          0.02620687083797661
         ],
         "yaxis": "y"
        }
       ],
       "layout": {
        "barmode": "relative",
        "legend": {
         "tracegroupgap": 0
        },
        "margin": {
         "t": 60
        },
        "template": {
         "data": {
          "pie": [
           {
            "automargin": true,
            "type": "pie"
           }
          ]
         },
         "layout": {
          "xaxis": {
           "showgrid": true,
           "title": {
            "standoff": 15
           }
          },
          "yaxis": {
           "showgrid": true,
           "title": {
            "standoff": 15
           }
          }
         }
        },
        "title": {
         "text": "Percentages of inertias of PCA components"
        },
        "xaxis": {
         "anchor": "y",
         "domain": [
          0,
          1
         ],
         "title": {
          "text": "PCA components number"
         }
        },
        "yaxis": {
         "anchor": "x",
         "domain": [
          0,
          1
         ],
         "range": [
          0,
          110
         ],
         "title": {
          "text": "Percentage of inertia"
         }
        }
       }
      },
      "text/html": [
       "<div>                            <div id=\"0a4b43d5-f021-4e5f-97d4-8c87f748e356\" class=\"plotly-graph-div\" style=\"height:525px; width:100%;\"></div>            <script type=\"text/javascript\">                require([\"plotly\"], function(Plotly) {                    window.PLOTLYENV=window.PLOTLYENV || {};                                    if (document.getElementById(\"0a4b43d5-f021-4e5f-97d4-8c87f748e356\")) {                    Plotly.newPlot(                        \"0a4b43d5-f021-4e5f-97d4-8c87f748e356\",                        [{\"alignmentgroup\":\"True\",\"hovertemplate\":\"x=%{x}<br>y=%{y}<extra></extra>\",\"legendgroup\":\"\",\"marker\":{\"color\":\"DodgerBlue\",\"pattern\":{\"shape\":\"\"}},\"name\":\"\",\"offsetgroup\":\"\",\"orientation\":\"v\",\"showlegend\":false,\"textposition\":\"auto\",\"type\":\"bar\",\"x\":[\"Component 1\",\"Component 2\",\"Component 3\",\"Component 4\"],\"xaxis\":\"x\",\"y\":[71.89216928799223,27.99218408901536,0.08943975215443761,0.02620687083797661],\"yaxis\":\"y\"}],                        {\"barmode\":\"relative\",\"legend\":{\"tracegroupgap\":0},\"margin\":{\"t\":60},\"template\":{\"data\":{\"pie\":[{\"automargin\":true,\"type\":\"pie\"}]},\"layout\":{\"xaxis\":{\"showgrid\":true,\"title\":{\"standoff\":15}},\"yaxis\":{\"showgrid\":true,\"title\":{\"standoff\":15}}}},\"title\":{\"text\":\"Percentages of inertias of PCA components\"},\"xaxis\":{\"anchor\":\"y\",\"domain\":[0.0,1.0],\"title\":{\"text\":\"PCA components number\"}},\"yaxis\":{\"anchor\":\"x\",\"domain\":[0.0,1.0],\"range\":[0.0,110.0],\"title\":{\"text\":\"Percentage of inertia\"}}},                        {\"responsive\": true}                    ).then(function(){\n",
       "                            \n",
       "var gd = document.getElementById('0a4b43d5-f021-4e5f-97d4-8c87f748e356');\n",
       "var x = new MutationObserver(function (mutations, observer) {{\n",
       "        var display = window.getComputedStyle(gd).display;\n",
       "        if (!display || display === 'none') {{\n",
       "            console.log([gd, 'removed!']);\n",
       "            Plotly.purge(gd);\n",
       "            observer.disconnect();\n",
       "        }}\n",
       "}});\n",
       "\n",
       "// Listen for the removal of the full notebook cells\n",
       "var notebookContainer = gd.closest('#notebook-container');\n",
       "if (notebookContainer) {{\n",
       "    x.observe(notebookContainer, {childList: true});\n",
       "}}\n",
       "\n",
       "// Listen for the clearing of the current output cell\n",
       "var outputEl = gd.closest('.output');\n",
       "if (outputEl) {{\n",
       "    x.observe(outputEl, {childList: true});\n",
       "}}\n",
       "\n",
       "                        })                };                });            </script>        </div>"
      ]
     },
     "metadata": {},
     "output_type": "display_data"
    }
   ],
   "source": [
    "pca.components_barplot(n_components=None, mode=0, bar_color=\"DodgerBlue\")"
   ]
  },
  {
   "cell_type": "code",
   "execution_count": 33,
   "id": "e43e8d65",
   "metadata": {},
   "outputs": [
    {
     "data": {
      "application/vnd.plotly.v1+json": {
       "config": {
        "plotlyServerURL": "https://plot.ly"
       },
       "data": [
        {
         "alignmentgroup": "True",
         "hovertemplate": "x=%{x}<br>y=%{y}<extra></extra>",
         "legendgroup": "",
         "marker": {
          "color": "DarkSeaGreen",
          "pattern": {
           "shape": ""
          }
         },
         "name": "",
         "offsetgroup": "",
         "orientation": "v",
         "showlegend": false,
         "textposition": "auto",
         "type": "bar",
         "x": [
          "Component 1",
          "Component 2",
          "Component 3"
         ],
         "xaxis": "x",
         "y": [
          71.89216928799223,
          27.99218408901536,
          0.08943975215443761
         ],
         "yaxis": "y"
        }
       ],
       "layout": {
        "barmode": "relative",
        "legend": {
         "tracegroupgap": 0
        },
        "margin": {
         "t": 60
        },
        "template": {
         "data": {
          "pie": [
           {
            "automargin": true,
            "type": "pie"
           }
          ]
         },
         "layout": {
          "xaxis": {
           "showgrid": true,
           "title": {
            "standoff": 15
           }
          },
          "yaxis": {
           "showgrid": true,
           "title": {
            "standoff": 15
           }
          }
         }
        },
        "title": {
         "text": "Percentages of inertias of PCA components"
        },
        "xaxis": {
         "anchor": "y",
         "domain": [
          0,
          1
         ],
         "title": {
          "text": "PCA components number"
         }
        },
        "yaxis": {
         "anchor": "x",
         "domain": [
          0,
          1
         ],
         "range": [
          0,
          110
         ],
         "title": {
          "text": "Percentage of inertia"
         }
        }
       }
      },
      "text/html": [
       "<div>                            <div id=\"c7c3dbae-5d93-4fdb-a5fb-9d4a5a2fa753\" class=\"plotly-graph-div\" style=\"height:525px; width:100%;\"></div>            <script type=\"text/javascript\">                require([\"plotly\"], function(Plotly) {                    window.PLOTLYENV=window.PLOTLYENV || {};                                    if (document.getElementById(\"c7c3dbae-5d93-4fdb-a5fb-9d4a5a2fa753\")) {                    Plotly.newPlot(                        \"c7c3dbae-5d93-4fdb-a5fb-9d4a5a2fa753\",                        [{\"alignmentgroup\":\"True\",\"hovertemplate\":\"x=%{x}<br>y=%{y}<extra></extra>\",\"legendgroup\":\"\",\"marker\":{\"color\":\"DarkSeaGreen\",\"pattern\":{\"shape\":\"\"}},\"name\":\"\",\"offsetgroup\":\"\",\"orientation\":\"v\",\"showlegend\":false,\"textposition\":\"auto\",\"type\":\"bar\",\"x\":[\"Component 1\",\"Component 2\",\"Component 3\"],\"xaxis\":\"x\",\"y\":[71.89216928799223,27.99218408901536,0.08943975215443761],\"yaxis\":\"y\"}],                        {\"barmode\":\"relative\",\"legend\":{\"tracegroupgap\":0},\"margin\":{\"t\":60},\"template\":{\"data\":{\"pie\":[{\"automargin\":true,\"type\":\"pie\"}]},\"layout\":{\"xaxis\":{\"showgrid\":true,\"title\":{\"standoff\":15}},\"yaxis\":{\"showgrid\":true,\"title\":{\"standoff\":15}}}},\"title\":{\"text\":\"Percentages of inertias of PCA components\"},\"xaxis\":{\"anchor\":\"y\",\"domain\":[0.0,1.0],\"title\":{\"text\":\"PCA components number\"}},\"yaxis\":{\"anchor\":\"x\",\"domain\":[0.0,1.0],\"range\":[0.0,110.0],\"title\":{\"text\":\"Percentage of inertia\"}}},                        {\"responsive\": true}                    ).then(function(){\n",
       "                            \n",
       "var gd = document.getElementById('c7c3dbae-5d93-4fdb-a5fb-9d4a5a2fa753');\n",
       "var x = new MutationObserver(function (mutations, observer) {{\n",
       "        var display = window.getComputedStyle(gd).display;\n",
       "        if (!display || display === 'none') {{\n",
       "            console.log([gd, 'removed!']);\n",
       "            Plotly.purge(gd);\n",
       "            observer.disconnect();\n",
       "        }}\n",
       "}});\n",
       "\n",
       "// Listen for the removal of the full notebook cells\n",
       "var notebookContainer = gd.closest('#notebook-container');\n",
       "if (notebookContainer) {{\n",
       "    x.observe(notebookContainer, {childList: true});\n",
       "}}\n",
       "\n",
       "// Listen for the clearing of the current output cell\n",
       "var outputEl = gd.closest('.output');\n",
       "if (outputEl) {{\n",
       "    x.observe(outputEl, {childList: true});\n",
       "}}\n",
       "\n",
       "                        })                };                });            </script>        </div>"
      ]
     },
     "metadata": {},
     "output_type": "display_data"
    }
   ],
   "source": [
    "pca.components_barplot(n_components=3, mode=0, bar_color=None)"
   ]
  },
  {
   "cell_type": "code",
   "execution_count": 34,
   "id": "0a077e4f",
   "metadata": {},
   "outputs": [
    {
     "data": {
      "application/vnd.plotly.v1+json": {
       "config": {
        "plotlyServerURL": "https://plot.ly"
       },
       "data": [
        {
         "alignmentgroup": "True",
         "hovertemplate": "x=%{x}<br>y=%{y}<extra></extra>",
         "legendgroup": "",
         "marker": {
          "color": "DarkSeaGreen",
          "pattern": {
           "shape": ""
          }
         },
         "name": "",
         "offsetgroup": "",
         "orientation": "v",
         "showlegend": false,
         "textposition": "auto",
         "type": "bar",
         "x": [
          "Component 1",
          "Component 2",
          "Component 3",
          "Component 4"
         ],
         "xaxis": "x",
         "y": [
          71.89216928799223,
          99.88435337700759,
          99.97379312916202,
          100
         ],
         "yaxis": "y"
        }
       ],
       "layout": {
        "barmode": "relative",
        "legend": {
         "tracegroupgap": 0
        },
        "margin": {
         "t": 60
        },
        "template": {
         "data": {
          "pie": [
           {
            "automargin": true,
            "type": "pie"
           }
          ]
         },
         "layout": {
          "xaxis": {
           "showgrid": true,
           "title": {
            "standoff": 15
           }
          },
          "yaxis": {
           "showgrid": true,
           "title": {
            "standoff": 15
           }
          }
         }
        },
        "title": {
         "text": "Cumulative percentages of inertias of PCA components"
        },
        "xaxis": {
         "anchor": "y",
         "domain": [
          0,
          1
         ],
         "title": {
          "text": "PCA components number"
         }
        },
        "yaxis": {
         "anchor": "x",
         "domain": [
          0,
          1
         ],
         "range": [
          0,
          110
         ],
         "title": {
          "text": "Cumulative percentage of inertia"
         }
        }
       }
      },
      "text/html": [
       "<div>                            <div id=\"7bfb670e-123d-4d13-bdf1-75a606476405\" class=\"plotly-graph-div\" style=\"height:525px; width:100%;\"></div>            <script type=\"text/javascript\">                require([\"plotly\"], function(Plotly) {                    window.PLOTLYENV=window.PLOTLYENV || {};                                    if (document.getElementById(\"7bfb670e-123d-4d13-bdf1-75a606476405\")) {                    Plotly.newPlot(                        \"7bfb670e-123d-4d13-bdf1-75a606476405\",                        [{\"alignmentgroup\":\"True\",\"hovertemplate\":\"x=%{x}<br>y=%{y}<extra></extra>\",\"legendgroup\":\"\",\"marker\":{\"color\":\"DarkSeaGreen\",\"pattern\":{\"shape\":\"\"}},\"name\":\"\",\"offsetgroup\":\"\",\"orientation\":\"v\",\"showlegend\":false,\"textposition\":\"auto\",\"type\":\"bar\",\"x\":[\"Component 1\",\"Component 2\",\"Component 3\",\"Component 4\"],\"xaxis\":\"x\",\"y\":[71.89216928799223,99.88435337700759,99.97379312916202,100.0],\"yaxis\":\"y\"}],                        {\"barmode\":\"relative\",\"legend\":{\"tracegroupgap\":0},\"margin\":{\"t\":60},\"template\":{\"data\":{\"pie\":[{\"automargin\":true,\"type\":\"pie\"}]},\"layout\":{\"xaxis\":{\"showgrid\":true,\"title\":{\"standoff\":15}},\"yaxis\":{\"showgrid\":true,\"title\":{\"standoff\":15}}}},\"title\":{\"text\":\"Cumulative percentages of inertias of PCA components\"},\"xaxis\":{\"anchor\":\"y\",\"domain\":[0.0,1.0],\"title\":{\"text\":\"PCA components number\"}},\"yaxis\":{\"anchor\":\"x\",\"domain\":[0.0,1.0],\"range\":[0.0,110.0],\"title\":{\"text\":\"Cumulative percentage of inertia\"}}},                        {\"responsive\": true}                    ).then(function(){\n",
       "                            \n",
       "var gd = document.getElementById('7bfb670e-123d-4d13-bdf1-75a606476405');\n",
       "var x = new MutationObserver(function (mutations, observer) {{\n",
       "        var display = window.getComputedStyle(gd).display;\n",
       "        if (!display || display === 'none') {{\n",
       "            console.log([gd, 'removed!']);\n",
       "            Plotly.purge(gd);\n",
       "            observer.disconnect();\n",
       "        }}\n",
       "}});\n",
       "\n",
       "// Listen for the removal of the full notebook cells\n",
       "var notebookContainer = gd.closest('#notebook-container');\n",
       "if (notebookContainer) {{\n",
       "    x.observe(notebookContainer, {childList: true});\n",
       "}}\n",
       "\n",
       "// Listen for the clearing of the current output cell\n",
       "var outputEl = gd.closest('.output');\n",
       "if (outputEl) {{\n",
       "    x.observe(outputEl, {childList: true});\n",
       "}}\n",
       "\n",
       "                        })                };                });            </script>        </div>"
      ]
     },
     "metadata": {},
     "output_type": "display_data"
    }
   ],
   "source": [
    "pca.components_barplot(n_components=None, mode=1, bar_color=None)"
   ]
  },
  {
   "cell_type": "markdown",
   "id": "128971ae",
   "metadata": {},
   "source": [
    "If we want to keep a number of principal components by using a threshold of cumulative inertia, we can pass the threshold to the parameter <code>bar_color</code>. Let's say we want at least 80% of inertia (involving keeping the first two principal components)."
   ]
  },
  {
   "cell_type": "code",
   "execution_count": 35,
   "id": "bc1200f4",
   "metadata": {},
   "outputs": [
    {
     "data": {
      "application/vnd.plotly.v1+json": {
       "config": {
        "plotlyServerURL": "https://plot.ly"
       },
       "data": [
        {
         "alignmentgroup": "True",
         "hovertemplate": "x=%{x}<br>y=%{y}<extra></extra>",
         "legendgroup": "",
         "marker": {
          "color": [
           "DarkSeaGreen",
           "DarkSeaGreen",
           "IndianRed",
           "IndianRed"
          ],
          "pattern": {
           "shape": ""
          }
         },
         "name": "",
         "offsetgroup": "",
         "orientation": "v",
         "showlegend": false,
         "textposition": "auto",
         "type": "bar",
         "x": [
          "Component 1",
          "Component 2",
          "Component 3",
          "Component 4"
         ],
         "xaxis": "x",
         "y": [
          71.89216928799223,
          99.88435337700759,
          99.97379312916202,
          100
         ],
         "yaxis": "y"
        }
       ],
       "layout": {
        "barmode": "relative",
        "legend": {
         "tracegroupgap": 0
        },
        "margin": {
         "t": 60
        },
        "template": {
         "data": {
          "pie": [
           {
            "automargin": true,
            "type": "pie"
           }
          ]
         },
         "layout": {
          "xaxis": {
           "showgrid": true,
           "title": {
            "standoff": 15
           }
          },
          "yaxis": {
           "showgrid": true,
           "title": {
            "standoff": 15
           }
          }
         }
        },
        "title": {
         "text": "Cumulative percentages of inertias of PCA components"
        },
        "xaxis": {
         "anchor": "y",
         "domain": [
          0,
          1
         ],
         "title": {
          "text": "PCA components number"
         }
        },
        "yaxis": {
         "anchor": "x",
         "domain": [
          0,
          1
         ],
         "range": [
          0,
          110
         ],
         "title": {
          "text": "Cumulative percentage of inertia"
         }
        }
       }
      },
      "text/html": [
       "<div>                            <div id=\"dfa2179e-0714-44a2-97db-32ba8c13c3f8\" class=\"plotly-graph-div\" style=\"height:525px; width:100%;\"></div>            <script type=\"text/javascript\">                require([\"plotly\"], function(Plotly) {                    window.PLOTLYENV=window.PLOTLYENV || {};                                    if (document.getElementById(\"dfa2179e-0714-44a2-97db-32ba8c13c3f8\")) {                    Plotly.newPlot(                        \"dfa2179e-0714-44a2-97db-32ba8c13c3f8\",                        [{\"alignmentgroup\":\"True\",\"hovertemplate\":\"x=%{x}<br>y=%{y}<extra></extra>\",\"legendgroup\":\"\",\"marker\":{\"color\":[\"DarkSeaGreen\",\"DarkSeaGreen\",\"IndianRed\",\"IndianRed\"],\"pattern\":{\"shape\":\"\"}},\"name\":\"\",\"offsetgroup\":\"\",\"orientation\":\"v\",\"showlegend\":false,\"textposition\":\"auto\",\"type\":\"bar\",\"x\":[\"Component 1\",\"Component 2\",\"Component 3\",\"Component 4\"],\"xaxis\":\"x\",\"y\":[71.89216928799223,99.88435337700759,99.97379312916202,100.0],\"yaxis\":\"y\"}],                        {\"barmode\":\"relative\",\"legend\":{\"tracegroupgap\":0},\"margin\":{\"t\":60},\"template\":{\"data\":{\"pie\":[{\"automargin\":true,\"type\":\"pie\"}]},\"layout\":{\"xaxis\":{\"showgrid\":true,\"title\":{\"standoff\":15}},\"yaxis\":{\"showgrid\":true,\"title\":{\"standoff\":15}}}},\"title\":{\"text\":\"Cumulative percentages of inertias of PCA components\"},\"xaxis\":{\"anchor\":\"y\",\"domain\":[0.0,1.0],\"title\":{\"text\":\"PCA components number\"}},\"yaxis\":{\"anchor\":\"x\",\"domain\":[0.0,1.0],\"range\":[0.0,110.0],\"title\":{\"text\":\"Cumulative percentage of inertia\"}}},                        {\"responsive\": true}                    ).then(function(){\n",
       "                            \n",
       "var gd = document.getElementById('dfa2179e-0714-44a2-97db-32ba8c13c3f8');\n",
       "var x = new MutationObserver(function (mutations, observer) {{\n",
       "        var display = window.getComputedStyle(gd).display;\n",
       "        if (!display || display === 'none') {{\n",
       "            console.log([gd, 'removed!']);\n",
       "            Plotly.purge(gd);\n",
       "            observer.disconnect();\n",
       "        }}\n",
       "}});\n",
       "\n",
       "// Listen for the removal of the full notebook cells\n",
       "var notebookContainer = gd.closest('#notebook-container');\n",
       "if (notebookContainer) {{\n",
       "    x.observe(notebookContainer, {childList: true});\n",
       "}}\n",
       "\n",
       "// Listen for the clearing of the current output cell\n",
       "var outputEl = gd.closest('.output');\n",
       "if (outputEl) {{\n",
       "    x.observe(outputEl, {childList: true});\n",
       "}}\n",
       "\n",
       "                        })                };                });            </script>        </div>"
      ]
     },
     "metadata": {},
     "output_type": "display_data"
    }
   ],
   "source": [
    "pca.components_barplot(n_components=None, mode=1, bar_color=80.0)"
   ]
  },
  {
   "cell_type": "markdown",
   "id": "8b1ff608",
   "metadata": {},
   "source": [
    "# Individuals factor map"
   ]
  },
  {
   "cell_type": "markdown",
   "id": "fdf43b50",
   "metadata": {},
   "source": [
    "Individuals factor map shows projection of individuals on principal components. The method allows to choose the principal components to plot as abscissa and ordinate. It is also possible to set categorical variable of data as color (parameter <code>z</code>) and to display another categorical variable as hover label on each point (parameter <code>label</code>)."
   ]
  },
  {
   "cell_type": "code",
   "execution_count": 39,
   "id": "29e3521e",
   "metadata": {},
   "outputs": [
    {
     "data": {
      "application/vnd.plotly.v1+json": {
       "config": {
        "plotlyServerURL": "https://plot.ly"
       },
       "data": [
        {
         "hovertemplate": "<b>%{hovertext}</b><br><br>color=18<br>x=%{x}<br>y=%{y}<extra></extra>",
         "hovertext": [
          "Nathan",
          "Emma",
          "Lola",
          "Lucas"
         ],
         "legendgroup": "18",
         "marker": {
          "color": "#636efa",
          "size": 8,
          "symbol": "circle"
         },
         "mode": "markers",
         "name": "18",
         "orientation": "v",
         "showlegend": true,
         "type": "scatter",
         "x": [
          -2.742827653001499,
          -1.2406355291965412,
          -1.030894252326024,
          -0.33474278453151574
         ],
         "xaxis": "x",
         "y": [
          -0.4273961903197387,
          -0.15275975107153952,
          1.0492879753144535,
          1.9374170392580574
         ],
         "yaxis": "y"
        },
        {
         "hovertemplate": "<b>%{hovertext}</b><br><br>color=19<br>x=%{x}<br>y=%{y}<extra></extra>",
         "hovertext": [
          "Baptiste",
          "Chloe"
         ],
         "legendgroup": "19",
         "marker": {
          "color": "#EF553B",
          "size": 8,
          "symbol": "circle"
         },
         "mode": "markers",
         "name": "19",
         "orientation": "v",
         "showlegend": true,
         "type": "scatter",
         "x": [
          3.138128847427335,
          0.510265602525466
         ],
         "xaxis": "x",
         "y": [
          0.18561801619445098,
          0.8240481638946705
         ],
         "yaxis": "y"
        },
        {
         "hovertemplate": "<b>%{hovertext}</b><br><br>color=17<br>x=%{x}<br>y=%{y}<extra></extra>",
         "hovertext": [
          "Mathilde",
          "Ines",
          "Aymeric"
         ],
         "legendgroup": "17",
         "marker": {
          "color": "#00cc96",
          "size": 8,
          "symbol": "circle"
         },
         "mode": "markers",
         "name": "17",
         "orientation": "v",
         "showlegend": true,
         "type": "scatter",
         "x": [
          2.051470760914386,
          -0.9709424343217271,
          0.620177442510123
         ],
         "xaxis": "x",
         "y": [
          -0.62781697565619,
          -1.4975120888042859,
          -1.2908861888098764
         ],
         "yaxis": "y"
        }
       ],
       "layout": {
        "legend": {
         "title": {
          "text": "Age"
         },
         "tracegroupgap": 0
        },
        "margin": {
         "t": 60
        },
        "template": {
         "data": {
          "pie": [
           {
            "automargin": true,
            "type": "pie"
           }
          ]
         },
         "layout": {
          "xaxis": {
           "showgrid": true,
           "title": {
            "standoff": 15
           }
          },
          "yaxis": {
           "showgrid": true,
           "title": {
            "standoff": 15
           }
          }
         }
        },
        "title": {
         "text": "Individuals factor map for components 1 and 2"
        },
        "xaxis": {
         "anchor": "y",
         "domain": [
          0,
          1
         ],
         "title": {
          "text": "Component 1 (71.89%)"
         }
        },
        "yaxis": {
         "anchor": "x",
         "domain": [
          0,
          1
         ],
         "title": {
          "text": "Component 2 (27.99%)"
         }
        }
       }
      },
      "text/html": [
       "<div>                            <div id=\"57bef1e2-8d0b-4af4-9c08-284038a4f22e\" class=\"plotly-graph-div\" style=\"height:525px; width:100%;\"></div>            <script type=\"text/javascript\">                require([\"plotly\"], function(Plotly) {                    window.PLOTLYENV=window.PLOTLYENV || {};                                    if (document.getElementById(\"57bef1e2-8d0b-4af4-9c08-284038a4f22e\")) {                    Plotly.newPlot(                        \"57bef1e2-8d0b-4af4-9c08-284038a4f22e\",                        [{\"hovertemplate\":\"<b>%{hovertext}</b><br><br>color=18<br>x=%{x}<br>y=%{y}<extra></extra>\",\"hovertext\":[\"Nathan\",\"Emma\",\"Lola\",\"Lucas\"],\"legendgroup\":\"18\",\"marker\":{\"color\":\"#636efa\",\"size\":8,\"symbol\":\"circle\"},\"mode\":\"markers\",\"name\":\"18\",\"orientation\":\"v\",\"showlegend\":true,\"type\":\"scatter\",\"x\":[-2.742827653001499,-1.2406355291965412,-1.030894252326024,-0.33474278453151574],\"xaxis\":\"x\",\"y\":[-0.4273961903197387,-0.15275975107153952,1.0492879753144535,1.9374170392580574],\"yaxis\":\"y\"},{\"hovertemplate\":\"<b>%{hovertext}</b><br><br>color=19<br>x=%{x}<br>y=%{y}<extra></extra>\",\"hovertext\":[\"Baptiste\",\"Chloe\"],\"legendgroup\":\"19\",\"marker\":{\"color\":\"#EF553B\",\"size\":8,\"symbol\":\"circle\"},\"mode\":\"markers\",\"name\":\"19\",\"orientation\":\"v\",\"showlegend\":true,\"type\":\"scatter\",\"x\":[3.138128847427335,0.510265602525466],\"xaxis\":\"x\",\"y\":[0.18561801619445098,0.8240481638946705],\"yaxis\":\"y\"},{\"hovertemplate\":\"<b>%{hovertext}</b><br><br>color=17<br>x=%{x}<br>y=%{y}<extra></extra>\",\"hovertext\":[\"Mathilde\",\"Ines\",\"Aymeric\"],\"legendgroup\":\"17\",\"marker\":{\"color\":\"#00cc96\",\"size\":8,\"symbol\":\"circle\"},\"mode\":\"markers\",\"name\":\"17\",\"orientation\":\"v\",\"showlegend\":true,\"type\":\"scatter\",\"x\":[2.051470760914386,-0.9709424343217271,0.620177442510123],\"xaxis\":\"x\",\"y\":[-0.62781697565619,-1.4975120888042859,-1.2908861888098764],\"yaxis\":\"y\"}],                        {\"legend\":{\"title\":{\"text\":\"Age\"},\"tracegroupgap\":0},\"margin\":{\"t\":60},\"template\":{\"data\":{\"pie\":[{\"automargin\":true,\"type\":\"pie\"}]},\"layout\":{\"xaxis\":{\"showgrid\":true,\"title\":{\"standoff\":15}},\"yaxis\":{\"showgrid\":true,\"title\":{\"standoff\":15}}}},\"title\":{\"text\":\"Individuals factor map for components 1 and 2\"},\"xaxis\":{\"anchor\":\"y\",\"domain\":[0.0,1.0],\"title\":{\"text\":\"Component 1 (71.89%)\"}},\"yaxis\":{\"anchor\":\"x\",\"domain\":[0.0,1.0],\"title\":{\"text\":\"Component 2 (27.99%)\"}}},                        {\"responsive\": true}                    ).then(function(){\n",
       "                            \n",
       "var gd = document.getElementById('57bef1e2-8d0b-4af4-9c08-284038a4f22e');\n",
       "var x = new MutationObserver(function (mutations, observer) {{\n",
       "        var display = window.getComputedStyle(gd).display;\n",
       "        if (!display || display === 'none') {{\n",
       "            console.log([gd, 'removed!']);\n",
       "            Plotly.purge(gd);\n",
       "            observer.disconnect();\n",
       "        }}\n",
       "}});\n",
       "\n",
       "// Listen for the removal of the full notebook cells\n",
       "var notebookContainer = gd.closest('#notebook-container');\n",
       "if (notebookContainer) {{\n",
       "    x.observe(notebookContainer, {childList: true});\n",
       "}}\n",
       "\n",
       "// Listen for the clearing of the current output cell\n",
       "var outputEl = gd.closest('.output');\n",
       "if (outputEl) {{\n",
       "    x.observe(outputEl, {childList: true});\n",
       "}}\n",
       "\n",
       "                        })                };                });            </script>        </div>"
      ]
     },
     "metadata": {},
     "output_type": "display_data"
    }
   ],
   "source": [
    "pca.individuals_factor_map(x=1, y=2, z=\"Age\", label='First name', marker_size=8, marker_color=None)"
   ]
  },
  {
   "cell_type": "markdown",
   "id": "a551883d",
   "metadata": {},
   "source": [
    "# Variables factor map"
   ]
  },
  {
   "cell_type": "markdown",
   "id": "0c5b0d91",
   "metadata": {},
   "source": [
    "Variables factor map shows projection of correlation of original features on choosen principal components. It is necessary to choose <code>std_scale=True</code> when creating the PCA object. Indeed, we want the variance of original variables equal to one to avoid leaving the circle of radius one (because the sum of the squares of the correlations with the principal components necessarily less than or equal to one). "
   ]
  },
  {
   "cell_type": "code",
   "execution_count": 41,
   "id": "cf16c218",
   "metadata": {},
   "outputs": [
    {
     "data": {
      "application/vnd.plotly.v1+json": {
       "config": {
        "plotlyServerURL": "https://plot.ly"
       },
       "data": [
        {
         "hovertemplate": "Feature=English<br>Component 1=%{x}<br>Component 2=%{y}<extra></extra>",
         "legendgroup": "English",
         "line": {
          "color": "#636efa",
          "dash": "solid"
         },
         "mode": "lines+markers",
         "name": "English",
         "orientation": "v",
         "showlegend": true,
         "type": "scatter",
         "x": [
          0.9148940076970081,
          0
         ],
         "xaxis": "x",
         "y": [
          0.4014479703942639,
          0
         ],
         "yaxis": "y"
        },
        {
         "hovertemplate": "Feature=French<br>Component 1=%{x}<br>Component 2=%{y}<extra></extra>",
         "legendgroup": "French",
         "line": {
          "color": "#EF553B",
          "dash": "solid"
         },
         "mode": "lines+markers",
         "name": "French",
         "orientation": "v",
         "showlegend": true,
         "type": "scatter",
         "x": [
          0.7528104828091077,
          0
         ],
         "xaxis": "x",
         "y": [
          0.6573600969539375,
          0
         ],
         "yaxis": "y"
        },
        {
         "hovertemplate": "Feature=Maths<br>Component 1=%{x}<br>Component 2=%{y}<extra></extra>",
         "legendgroup": "Maths",
         "line": {
          "color": "#00cc96",
          "dash": "solid"
         },
         "mode": "lines+markers",
         "name": "Maths",
         "orientation": "v",
         "showlegend": true,
         "type": "scatter",
         "x": [
          0.8113551520580387,
          0
         ],
         "xaxis": "x",
         "y": [
          -0.5840462938489754,
          0
         ],
         "yaxis": "y"
        },
        {
         "hovertemplate": "Feature=Physics<br>Component 1=%{x}<br>Component 2=%{y}<extra></extra>",
         "legendgroup": "Physics",
         "line": {
          "color": "#ab63fa",
          "dash": "solid"
         },
         "mode": "lines+markers",
         "name": "Physics",
         "orientation": "v",
         "showlegend": true,
         "type": "scatter",
         "x": [
          0.9020171397492345,
          0
         ],
         "xaxis": "x",
         "y": [
          -0.4304584999752314,
          0
         ],
         "yaxis": "y"
        }
       ],
       "layout": {
        "font": {
         "size": 8
        },
        "height": 400,
        "legend": {
         "title": {
          "text": "Feature"
         },
         "tracegroupgap": 0
        },
        "margin": {
         "t": 60
        },
        "shapes": [
         {
          "line": {
           "color": "Black",
           "width": 1
          },
          "type": "circle",
          "x0": -1,
          "x1": 1,
          "y0": -1,
          "y1": 1
         }
        ],
        "showlegend": true,
        "template": {
         "data": {
          "pie": [
           {
            "automargin": true,
            "type": "pie"
           }
          ]
         },
         "layout": {
          "xaxis": {
           "showgrid": true,
           "title": {
            "standoff": 15
           }
          },
          "yaxis": {
           "showgrid": true,
           "title": {
            "standoff": 15
           }
          }
         }
        },
        "title": {
         "text": "Variables factor map for components 1 and 2"
        },
        "width": 475,
        "xaxis": {
         "anchor": "y",
         "domain": [
          0,
          1
         ],
         "range": [
          -1.2,
          1.2
         ],
         "title": {
          "text": "Component 1 (71.89%)"
         }
        },
        "yaxis": {
         "anchor": "x",
         "domain": [
          0,
          1
         ],
         "range": [
          -1.2,
          1.2
         ],
         "title": {
          "text": "Component 2 (27.99%)"
         }
        }
       }
      },
      "text/html": [
       "<div>                            <div id=\"353dfb8d-9147-466c-ba9c-aed162f20eeb\" class=\"plotly-graph-div\" style=\"height:400px; width:475px;\"></div>            <script type=\"text/javascript\">                require([\"plotly\"], function(Plotly) {                    window.PLOTLYENV=window.PLOTLYENV || {};                                    if (document.getElementById(\"353dfb8d-9147-466c-ba9c-aed162f20eeb\")) {                    Plotly.newPlot(                        \"353dfb8d-9147-466c-ba9c-aed162f20eeb\",                        [{\"hovertemplate\":\"Feature=English<br>Component 1=%{x}<br>Component 2=%{y}<extra></extra>\",\"legendgroup\":\"English\",\"line\":{\"color\":\"#636efa\",\"dash\":\"solid\"},\"mode\":\"lines+markers\",\"name\":\"English\",\"orientation\":\"v\",\"showlegend\":true,\"type\":\"scatter\",\"x\":[0.9148940076970081,0.0],\"xaxis\":\"x\",\"y\":[0.4014479703942639,0.0],\"yaxis\":\"y\"},{\"hovertemplate\":\"Feature=French<br>Component 1=%{x}<br>Component 2=%{y}<extra></extra>\",\"legendgroup\":\"French\",\"line\":{\"color\":\"#EF553B\",\"dash\":\"solid\"},\"mode\":\"lines+markers\",\"name\":\"French\",\"orientation\":\"v\",\"showlegend\":true,\"type\":\"scatter\",\"x\":[0.7528104828091077,0.0],\"xaxis\":\"x\",\"y\":[0.6573600969539375,0.0],\"yaxis\":\"y\"},{\"hovertemplate\":\"Feature=Maths<br>Component 1=%{x}<br>Component 2=%{y}<extra></extra>\",\"legendgroup\":\"Maths\",\"line\":{\"color\":\"#00cc96\",\"dash\":\"solid\"},\"mode\":\"lines+markers\",\"name\":\"Maths\",\"orientation\":\"v\",\"showlegend\":true,\"type\":\"scatter\",\"x\":[0.8113551520580387,0.0],\"xaxis\":\"x\",\"y\":[-0.5840462938489754,0.0],\"yaxis\":\"y\"},{\"hovertemplate\":\"Feature=Physics<br>Component 1=%{x}<br>Component 2=%{y}<extra></extra>\",\"legendgroup\":\"Physics\",\"line\":{\"color\":\"#ab63fa\",\"dash\":\"solid\"},\"mode\":\"lines+markers\",\"name\":\"Physics\",\"orientation\":\"v\",\"showlegend\":true,\"type\":\"scatter\",\"x\":[0.9020171397492345,0.0],\"xaxis\":\"x\",\"y\":[-0.4304584999752314,0.0],\"yaxis\":\"y\"}],                        {\"font\":{\"size\":8},\"height\":400,\"legend\":{\"title\":{\"text\":\"Feature\"},\"tracegroupgap\":0},\"margin\":{\"t\":60},\"shapes\":[{\"line\":{\"color\":\"Black\",\"width\":1.0},\"type\":\"circle\",\"x0\":-1.0,\"x1\":1.0,\"y0\":-1.0,\"y1\":1.0}],\"showlegend\":true,\"template\":{\"data\":{\"pie\":[{\"automargin\":true,\"type\":\"pie\"}]},\"layout\":{\"xaxis\":{\"showgrid\":true,\"title\":{\"standoff\":15}},\"yaxis\":{\"showgrid\":true,\"title\":{\"standoff\":15}}}},\"title\":{\"text\":\"Variables factor map for components 1 and 2\"},\"width\":475,\"xaxis\":{\"anchor\":\"y\",\"domain\":[0.0,1.0],\"range\":[-1.2,1.2],\"title\":{\"text\":\"Component 1 (71.89%)\"}},\"yaxis\":{\"anchor\":\"x\",\"domain\":[0.0,1.0],\"range\":[-1.2,1.2],\"title\":{\"text\":\"Component 2 (27.99%)\"}}},                        {\"responsive\": true}                    ).then(function(){\n",
       "                            \n",
       "var gd = document.getElementById('353dfb8d-9147-466c-ba9c-aed162f20eeb');\n",
       "var x = new MutationObserver(function (mutations, observer) {{\n",
       "        var display = window.getComputedStyle(gd).display;\n",
       "        if (!display || display === 'none') {{\n",
       "            console.log([gd, 'removed!']);\n",
       "            Plotly.purge(gd);\n",
       "            observer.disconnect();\n",
       "        }}\n",
       "}});\n",
       "\n",
       "// Listen for the removal of the full notebook cells\n",
       "var notebookContainer = gd.closest('#notebook-container');\n",
       "if (notebookContainer) {{\n",
       "    x.observe(notebookContainer, {childList: true});\n",
       "}}\n",
       "\n",
       "// Listen for the clearing of the current output cell\n",
       "var outputEl = gd.closest('.output');\n",
       "if (outputEl) {{\n",
       "    x.observe(outputEl, {childList: true});\n",
       "}}\n",
       "\n",
       "                        })                };                });            </script>        </div>"
      ]
     },
     "metadata": {},
     "output_type": "display_data"
    }
   ],
   "source": [
    "pca.variables_factor_map(x=1, y=2, size=400, font_size=8)"
   ]
  }
 ],
 "metadata": {
  "kernelspec": {
   "display_name": "Python 3 (ipykernel)",
   "language": "python",
   "name": "python3"
  },
  "language_info": {
   "codemirror_mode": {
    "name": "ipython",
    "version": 3
   },
   "file_extension": ".py",
   "mimetype": "text/x-python",
   "name": "python",
   "nbconvert_exporter": "python",
   "pygments_lexer": "ipython3",
   "version": "3.8.12"
  }
 },
 "nbformat": 4,
 "nbformat_minor": 5
}
